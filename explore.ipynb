{
 "cells": [
  {
   "cell_type": "code",
   "execution_count": 1,
   "metadata": {},
   "outputs": [],
   "source": [
    "import json"
   ]
  },
  {
   "cell_type": "code",
   "execution_count": 2,
   "metadata": {},
   "outputs": [],
   "source": [
    "VAL_PATH = \"/home/rajath/work/iisc/data/coco/annotations/instances_val2017.json\"\n",
    "DET_PATH = \"/home/rajath/work/iisc/map/results/detections_val2017_results.json\""
   ]
  },
  {
   "cell_type": "code",
   "execution_count": 5,
   "metadata": {},
   "outputs": [],
   "source": [
    "gt_data = json.load(open(VAL_PATH))\n",
    "det_data = json.load(open(DET_PATH))"
   ]
  },
  {
   "cell_type": "code",
   "execution_count": 6,
   "metadata": {},
   "outputs": [
    {
     "name": "stdout",
     "output_type": "stream",
     "text": [
      "4952\n"
     ]
    }
   ],
   "source": [
    "image_ids = set([])\n",
    "\n",
    "for d in gt_data[\"annotations\"]:\n",
    "    image_ids.add(d[\"image_id\"])\n",
    "    \n",
    "print (len(image_ids))"
   ]
  },
  {
   "cell_type": "code",
   "execution_count": 8,
   "metadata": {},
   "outputs": [],
   "source": [
    "preprocess_gt_data = {}\n",
    "\n",
    "for d in gt_data[\"annotations\"]:\n",
    "    if d[\"image_id\"] not in preprocess_gt_data:\n",
    "        preprocess_gt_data[d[\"image_id\"]] = [d]\n",
    "    else:\n",
    "        preprocess_gt_data[d[\"image_id\"]].append(d)"
   ]
  },
  {
   "cell_type": "code",
   "execution_count": 10,
   "metadata": {},
   "outputs": [
    {
     "name": "stdout",
     "output_type": "stream",
     "text": [
      "1014\n"
     ]
    }
   ],
   "source": [
    "image_ids = set([])\n",
    "\n",
    "for d in det_data:\n",
    "    image_ids.add(d[\"image_id\"])\n",
    "    \n",
    "print (len(image_ids))"
   ]
  },
  {
   "cell_type": "code",
   "execution_count": 1,
   "metadata": {},
   "outputs": [],
   "source": [
    "import xml.etree.ElementTree as ET \n"
   ]
  },
  {
   "cell_type": "code",
   "execution_count": 4,
   "metadata": {},
   "outputs": [],
   "source": [
    "tree = ET.parse(\"/home/rajath/work/iisc/data/VOCdevkit/VOC2012/Annotations/2009_003976.xml\") \n",
    "root = tree.getroot()"
   ]
  },
  {
   "cell_type": "code",
   "execution_count": 57,
   "metadata": {},
   "outputs": [
    {
     "name": "stdout",
     "output_type": "stream",
     "text": [
      "2010_006034\n",
      "aeroplane 0\n",
      "1 272 499 83\n",
      "_________\n",
      "2010_002055\n",
      "bicycle 0\n",
      "37 500 375 120\n",
      "2010_002055\n",
      "person 0\n",
      "248 306 276 262\n",
      "2010_002055\n",
      "person 1\n",
      "285 324 318 206\n",
      "2010_002055\n",
      "bottle 0\n",
      "229 337 286 265\n",
      "2010_002055\n",
      "pottedplant 0\n",
      "13 312 51 241\n",
      "_________\n",
      "2009_002107\n",
      "diningtable 0\n",
      "330 375 500 336\n",
      "2009_002107\n",
      "person 0\n",
      "3 375 335 67\n",
      "2009_002107\n",
      "chair 0\n",
      "333 340 445 268\n",
      "_________\n",
      "2008_007058\n",
      "person 0\n",
      "128 334 498 1\n",
      "2008_007058\n",
      "bottle 0\n",
      "165 334 234 193\n",
      "_________\n",
      "2010_002587\n",
      "cat 0\n",
      "1 374 413 10\n",
      "_________\n"
     ]
    }
   ],
   "source": [
    "import os\n",
    "import glob \n",
    "\n",
    "ground_truth = {}\n",
    "paths = glob.glob(\"/home/rajath/work/iisc/data/VOCdevkit/VOC2012/Annotations/*\")\n",
    "\n",
    "for path in paths[:5]:\n",
    "    \n",
    "    image_id = os.path.basename(path).split('.xml')[0]\n",
    "    tree = ET.parse(path) \n",
    "    root = tree.getroot()\n",
    "    for ele in root.findall('object'):\n",
    "        difficult = int(ele.find('difficult').text)\n",
    "        cat_id = ele.find('name').text\n",
    "        bbox = ele.find('bndbox')    \n",
    "        left, top, right, bottom = bbox.find('xmin').text, bbox.find('ymax').text, bbox.find('xmax').text, bbox.find('ymin').text\n",
    "        print (image_id)\n",
    "        print (cat_id, difficult)\n",
    "        print (left, top, right, bottom)\n",
    "    print (\"_________\")"
   ]
  },
  {
   "cell_type": "code",
   "execution_count": null,
   "metadata": {},
   "outputs": [],
   "source": []
  }
 ],
 "metadata": {
  "kernelspec": {
   "display_name": "Python [conda env:onesod] *",
   "language": "python",
   "name": "conda-env-onesod-py"
  },
  "language_info": {
   "codemirror_mode": {
    "name": "ipython",
    "version": 3
   },
   "file_extension": ".py",
   "mimetype": "text/x-python",
   "name": "python",
   "nbconvert_exporter": "python",
   "pygments_lexer": "ipython3",
   "version": "3.6.10"
  }
 },
 "nbformat": 4,
 "nbformat_minor": 4
}

{
 "cells": [
  {
   "cell_type": "code",
   "execution_count": 1,
   "metadata": {},
   "outputs": [],
   "source": [
    "import json"
   ]
  },
  {
   "cell_type": "code",
   "execution_count": 2,
   "metadata": {},
   "outputs": [],
   "source": [
    "VAL_PATH = \"/home/rajath/work/iisc/data/coco/annotations/instances_val2017.json\"\n",
    "DET_PATH = \"/home/rajath/work/iisc/map/results/detections_val2017_results.json\""
   ]
  },
  {
   "cell_type": "code",
   "execution_count": 5,
   "metadata": {},
   "outputs": [],
   "source": [
    "gt_data = json.load(open(VAL_PATH))\n",
    "det_data = json.load(open(DET_PATH))"
   ]
  },
  {
   "cell_type": "code",
   "execution_count": 6,
   "metadata": {},
   "outputs": [
    {
     "name": "stdout",
     "output_type": "stream",
     "text": [
      "4952\n"
     ]
    }
   ],
   "source": [
    "image_ids = set([])\n",
    "\n",
    "for d in gt_data[\"annotations\"]:\n",
    "    image_ids.add(d[\"image_id\"])\n",
    "    \n",
    "print (len(image_ids))"
   ]
  },
  {
   "cell_type": "code",
   "execution_count": 8,
   "metadata": {},
   "outputs": [],
   "source": [
    "preprocess_gt_data = {}\n",
    "\n",
    "for d in gt_data[\"annotations\"]:\n",
    "    if d[\"image_id\"] not in preprocess_gt_data:\n",
    "        preprocess_gt_data[d[\"image_id\"]] = [d]\n",
    "    else:\n",
    "        preprocess_gt_data[d[\"image_id\"]].append(d)"
   ]
  },
  {
   "cell_type": "code",
   "execution_count": 10,
   "metadata": {},
   "outputs": [
    {
     "name": "stdout",
     "output_type": "stream",
     "text": [
      "1014\n"
     ]
    }
   ],
   "source": [
    "image_ids = set([])\n",
    "\n",
    "for d in det_data:\n",
    "    image_ids.add(d[\"image_id\"])\n",
    "    \n",
    "print (len(image_ids))"
   ]
  },
  {
   "cell_type": "code",
   "execution_count": null,
   "metadata": {},
   "outputs": [],
   "source": []
  }
 ],
 "metadata": {
  "kernelspec": {
   "display_name": "Python [conda env:onesod] *",
   "language": "python",
   "name": "conda-env-onesod-py"
  },
  "language_info": {
   "codemirror_mode": {
    "name": "ipython",
    "version": 3
   },
   "file_extension": ".py",
   "mimetype": "text/x-python",
   "name": "python",
   "nbconvert_exporter": "python",
   "pygments_lexer": "ipython3",
   "version": "3.6.10"
  }
 },
 "nbformat": 4,
 "nbformat_minor": 4
}
